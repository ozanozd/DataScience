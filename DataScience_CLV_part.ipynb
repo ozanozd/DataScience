{
 "cells": [
  {
   "cell_type": "code",
   "execution_count": 12,
   "metadata": {},
   "outputs": [
    {
     "data": {
      "text/html": [
       "<div>\n",
       "<style scoped>\n",
       "    .dataframe tbody tr th:only-of-type {\n",
       "        vertical-align: middle;\n",
       "    }\n",
       "\n",
       "    .dataframe tbody tr th {\n",
       "        vertical-align: top;\n",
       "    }\n",
       "\n",
       "    .dataframe thead th {\n",
       "        text-align: right;\n",
       "    }\n",
       "</style>\n",
       "<table border=\"1\" class=\"dataframe\">\n",
       "  <thead>\n",
       "    <tr style=\"text-align: right;\">\n",
       "      <th></th>\n",
       "      <th>customerID</th>\n",
       "      <th>gender</th>\n",
       "      <th>SeniorCitizen</th>\n",
       "      <th>Partner</th>\n",
       "      <th>Dependents</th>\n",
       "      <th>tenure</th>\n",
       "      <th>PhoneService</th>\n",
       "      <th>MultipleLines</th>\n",
       "      <th>InternetService</th>\n",
       "      <th>OnlineSecurity</th>\n",
       "      <th>...</th>\n",
       "      <th>DeviceProtection</th>\n",
       "      <th>TechSupport</th>\n",
       "      <th>StreamingTV</th>\n",
       "      <th>StreamingMovies</th>\n",
       "      <th>Contract</th>\n",
       "      <th>PaperlessBilling</th>\n",
       "      <th>PaymentMethod</th>\n",
       "      <th>MonthlyCharges</th>\n",
       "      <th>TotalCharges</th>\n",
       "      <th>Churn</th>\n",
       "    </tr>\n",
       "  </thead>\n",
       "  <tbody>\n",
       "    <tr>\n",
       "      <th>0</th>\n",
       "      <td>7590-VHVEG</td>\n",
       "      <td>Female</td>\n",
       "      <td>0</td>\n",
       "      <td>Yes</td>\n",
       "      <td>No</td>\n",
       "      <td>1</td>\n",
       "      <td>No</td>\n",
       "      <td>No phone service</td>\n",
       "      <td>DSL</td>\n",
       "      <td>No</td>\n",
       "      <td>...</td>\n",
       "      <td>No</td>\n",
       "      <td>No</td>\n",
       "      <td>No</td>\n",
       "      <td>No</td>\n",
       "      <td>Month-to-month</td>\n",
       "      <td>Yes</td>\n",
       "      <td>Electronic check</td>\n",
       "      <td>29.85</td>\n",
       "      <td>29.85</td>\n",
       "      <td>No</td>\n",
       "    </tr>\n",
       "    <tr>\n",
       "      <th>1</th>\n",
       "      <td>5575-GNVDE</td>\n",
       "      <td>Male</td>\n",
       "      <td>0</td>\n",
       "      <td>No</td>\n",
       "      <td>No</td>\n",
       "      <td>34</td>\n",
       "      <td>Yes</td>\n",
       "      <td>No</td>\n",
       "      <td>DSL</td>\n",
       "      <td>Yes</td>\n",
       "      <td>...</td>\n",
       "      <td>Yes</td>\n",
       "      <td>No</td>\n",
       "      <td>No</td>\n",
       "      <td>No</td>\n",
       "      <td>One year</td>\n",
       "      <td>No</td>\n",
       "      <td>Mailed check</td>\n",
       "      <td>56.95</td>\n",
       "      <td>1889.50</td>\n",
       "      <td>No</td>\n",
       "    </tr>\n",
       "    <tr>\n",
       "      <th>2</th>\n",
       "      <td>3668-QPYBK</td>\n",
       "      <td>Male</td>\n",
       "      <td>0</td>\n",
       "      <td>No</td>\n",
       "      <td>No</td>\n",
       "      <td>2</td>\n",
       "      <td>Yes</td>\n",
       "      <td>No</td>\n",
       "      <td>DSL</td>\n",
       "      <td>Yes</td>\n",
       "      <td>...</td>\n",
       "      <td>No</td>\n",
       "      <td>No</td>\n",
       "      <td>No</td>\n",
       "      <td>No</td>\n",
       "      <td>Month-to-month</td>\n",
       "      <td>Yes</td>\n",
       "      <td>Mailed check</td>\n",
       "      <td>53.85</td>\n",
       "      <td>108.15</td>\n",
       "      <td>Yes</td>\n",
       "    </tr>\n",
       "    <tr>\n",
       "      <th>3</th>\n",
       "      <td>7795-CFOCW</td>\n",
       "      <td>Male</td>\n",
       "      <td>0</td>\n",
       "      <td>No</td>\n",
       "      <td>No</td>\n",
       "      <td>45</td>\n",
       "      <td>No</td>\n",
       "      <td>No phone service</td>\n",
       "      <td>DSL</td>\n",
       "      <td>Yes</td>\n",
       "      <td>...</td>\n",
       "      <td>Yes</td>\n",
       "      <td>Yes</td>\n",
       "      <td>No</td>\n",
       "      <td>No</td>\n",
       "      <td>One year</td>\n",
       "      <td>No</td>\n",
       "      <td>Bank transfer (automatic)</td>\n",
       "      <td>42.30</td>\n",
       "      <td>1840.75</td>\n",
       "      <td>No</td>\n",
       "    </tr>\n",
       "    <tr>\n",
       "      <th>4</th>\n",
       "      <td>9237-HQITU</td>\n",
       "      <td>Female</td>\n",
       "      <td>0</td>\n",
       "      <td>No</td>\n",
       "      <td>No</td>\n",
       "      <td>2</td>\n",
       "      <td>Yes</td>\n",
       "      <td>No</td>\n",
       "      <td>Fiber optic</td>\n",
       "      <td>No</td>\n",
       "      <td>...</td>\n",
       "      <td>No</td>\n",
       "      <td>No</td>\n",
       "      <td>No</td>\n",
       "      <td>No</td>\n",
       "      <td>Month-to-month</td>\n",
       "      <td>Yes</td>\n",
       "      <td>Electronic check</td>\n",
       "      <td>70.70</td>\n",
       "      <td>151.65</td>\n",
       "      <td>Yes</td>\n",
       "    </tr>\n",
       "  </tbody>\n",
       "</table>\n",
       "<p>5 rows × 21 columns</p>\n",
       "</div>"
      ],
      "text/plain": [
       "   customerID  gender  SeniorCitizen Partner Dependents  tenure PhoneService  \\\n",
       "0  7590-VHVEG  Female              0     Yes         No       1           No   \n",
       "1  5575-GNVDE    Male              0      No         No      34          Yes   \n",
       "2  3668-QPYBK    Male              0      No         No       2          Yes   \n",
       "3  7795-CFOCW    Male              0      No         No      45           No   \n",
       "4  9237-HQITU  Female              0      No         No       2          Yes   \n",
       "\n",
       "      MultipleLines InternetService OnlineSecurity  ...   DeviceProtection  \\\n",
       "0  No phone service             DSL             No  ...                 No   \n",
       "1                No             DSL            Yes  ...                Yes   \n",
       "2                No             DSL            Yes  ...                 No   \n",
       "3  No phone service             DSL            Yes  ...                Yes   \n",
       "4                No     Fiber optic             No  ...                 No   \n",
       "\n",
       "  TechSupport StreamingTV StreamingMovies        Contract PaperlessBilling  \\\n",
       "0          No          No              No  Month-to-month              Yes   \n",
       "1          No          No              No        One year               No   \n",
       "2          No          No              No  Month-to-month              Yes   \n",
       "3         Yes          No              No        One year               No   \n",
       "4          No          No              No  Month-to-month              Yes   \n",
       "\n",
       "               PaymentMethod MonthlyCharges  TotalCharges  Churn  \n",
       "0           Electronic check          29.85         29.85     No  \n",
       "1               Mailed check          56.95       1889.50     No  \n",
       "2               Mailed check          53.85        108.15    Yes  \n",
       "3  Bank transfer (automatic)          42.30       1840.75     No  \n",
       "4           Electronic check          70.70        151.65    Yes  \n",
       "\n",
       "[5 rows x 21 columns]"
      ]
     },
     "execution_count": 12,
     "metadata": {},
     "output_type": "execute_result"
    }
   ],
   "source": [
    "import pandas as pd\n",
    "import numpy as np\n",
    "import matplotlib as plt\n",
    "%matplotlib inline\n",
    "\n",
    "Data = pd.read_csv('Telco-Customer-Churn.csv')\n",
    "Data.head()"
   ]
  },
  {
   "cell_type": "code",
   "execution_count": 13,
   "metadata": {},
   "outputs": [
    {
     "data": {
      "text/plain": [
       "0.7346301292063041"
      ]
     },
     "execution_count": 13,
     "metadata": {},
     "output_type": "execute_result"
    }
   ],
   "source": [
    "#Derive the retention rate\n",
    "loyal=Data[Data.Churn=='No']\n",
    "retention_rate=len(loyal)/len(Data)\n",
    "retention_rate"
   ]
  },
  {
   "cell_type": "markdown",
   "metadata": {},
   "source": [
    "The origin idea to calculate the CLV is to calculate the difference between the discounted value of gross contribution per customer and the discounted value of retention costs per customer per year. The formula is shown below:\n",
    "\n",
    "$\n",
    "\\begin{equation} \n",
    "CLV = GC \\sum_{i=1}^{n} \\frac{r^i}{(1+d)^i}- M \\sum_{i=1}^{n} \\frac{r^{i-1}}{(1+d)^{i-0.5}}\n",
    "\\end{equation}\n",
    "$\n",
    "\n",
    "In this case, GC stands for monthly gross contribution per customer, M means the retention costs per customer per month, n is the horizon (in years), r is the monthly retention rate and d is the monthly discount rate.In this case, we assume that the retention rate as a constant.\n",
    "\n",
    "But, unfortunately, we can't estimate the retention cost based on the data we have. So we just add another assumption to deal with it.We assume that every customer will have an infinite economic life. In other words, $n \\rightarrow \\infty$.Now, we can simplify the equation above as below:\n",
    "\n",
    "$\n",
    "\\begin{equation} \n",
    "CLV = GC \\frac{r}{1+d-r}\n",
    "\\end{equation}\n",
    "$\n"
   ]
  },
  {
   "cell_type": "markdown",
   "metadata": {},
   "source": [
    "The current interest rate is sometimes used as a simple (but incorrect) proxy for discount rate. Now we choose to use the one-month yield of the government bonds as approximation for the discount rate because we only have the monthly charges in the dataset. Data source is from \"http://www.worldgovernmentbonds.com/country/united-states/\"."
   ]
  },
  {
   "cell_type": "code",
   "execution_count": 14,
   "metadata": {},
   "outputs": [],
   "source": [
    "dis_rate_us=0.02438\n",
    "\n",
    "factor_us=retention_rate/(1-retention_rate+dis_rate_us)"
   ]
  },
  {
   "cell_type": "code",
   "execution_count": 15,
   "metadata": {},
   "outputs": [],
   "source": [
    "def discountvalue(D,T):\n",
    "    return (D*(1+dis_rate_us)/dis_rate_us)*(1-np.power(1+dis_rate_us,-T))\n",
    "\n",
    "disvalue=[]\n",
    "for j in range(0,len(loyal)):\n",
    "    disvalue.append(discountvalue(Data.MonthlyCharges.values[j],Data.tenure.values[j]))\n",
    "\n",
    "disvalue=pd.Series(disvalue,index=loyal.index)\n",
    "    \n",
    "CLV_aftertenure=loyal.MonthlyCharges*factor_us\n",
    "\n",
    "\n",
    "CLV=disvalue+CLV_aftertenure\n",
    "CLV=pd.DataFrame(CLV,index=loyal.index,columns=['CLV'])"
   ]
  },
  {
   "cell_type": "code",
   "execution_count": 16,
   "metadata": {},
   "outputs": [],
   "source": [
    "loyal=pd.concat([loyal,CLV],axis=1)"
   ]
  },
  {
   "cell_type": "code",
   "execution_count": 17,
   "metadata": {},
   "outputs": [],
   "source": [
    "loyal_top10=loyal[loyal.CLV>=loyal.CLV.quantile(0.9)]\n",
    "loyal_top50=loyal[loyal.CLV>=loyal.CLV.quantile(0.5)]"
   ]
  },
  {
   "cell_type": "markdown",
   "metadata": {},
   "source": [
    "Now, we selected the top 10% loyal customers, who will spend most money on our company.In other words, they are our VIP customers.Now, we are going to analyze their consumption habits and do the comparision with the average loyal customers."
   ]
  },
  {
   "cell_type": "code",
   "execution_count": 32,
   "metadata": {},
   "outputs": [
    {
     "data": {
      "text/plain": [
       "<matplotlib.axes._subplots.AxesSubplot at 0x27e6ffca400>"
      ]
     },
     "execution_count": 32,
     "metadata": {},
     "output_type": "execute_result"
    },
    {
     "data": {
      "image/png": "[encoded data removed]",
      "text/plain": [
       "<Figure size 432x288 with 1 Axes>"
      ]
     },
     "metadata": {},
     "output_type": "display_data"
    }
   ],
   "source": [
    "# distribution of the senior citizens in the loyal customer group \n",
    "Age = pd.DataFrame([[len(loyal_top10[loyal_top10.SeniorCitizen == 1])/len(loyal_top10), \n",
    "                     len(loyal_top10[loyal_top10.SeniorCitizen == 0])/len(loyal_top10)],\n",
    "                    [len(loyal_top50[loyal_top50.SeniorCitizen == 1])/len(loyal_top50), \n",
    "                     len(loyal_top50[loyal_top50.SeniorCitizen == 0])/len(loyal_top50)]],\n",
    "                        index = ['Top 10%', 'Top 50%'],\n",
    "                        columns = ['SeniorCitizen', 'Not a SeniorCitizen'])\n",
    "\n",
    "Age.plot.bar()"
   ]
  },
  {
   "cell_type": "code",
   "execution_count": 33,
   "metadata": {},
   "outputs": [
    {
     "data": {
      "text/plain": [
       "<matplotlib.axes._subplots.AxesSubplot at 0x27e70013780>"
      ]
     },
     "execution_count": 33,
     "metadata": {},
     "output_type": "execute_result"
    },
    {
     "data": {
      "image/png": "[encoded data removed]",
      "text/plain": [
       "<Figure size 432x288 with 1 Axes>"
      ]
     },
     "metadata": {},
     "output_type": "display_data"
    }
   ],
   "source": [
    "# distribution in the contract within the loyal customers\n",
    "Contract = pd.DataFrame([loyal_top10.groupby('Contract').count().customerID/len(loyal_top10), \n",
    "                         loyal_top50.groupby('Contract').count().customerID/len(loyal_top50)],\n",
    "                       index = ['Top 10%', 'Top 50%'])\n",
    "\n",
    "Contract.plot.bar()"
   ]
  },
  {
   "cell_type": "code",
   "execution_count": 25,
   "metadata": {},
   "outputs": [
    {
     "data": {
      "text/plain": [
       "<matplotlib.axes._subplots.AxesSubplot at 0x27e6fbabc50>"
      ]
     },
     "execution_count": 25,
     "metadata": {},
     "output_type": "execute_result"
    },
    {
     "data": {
      "image/png": "[encoded data removed]",
      "text/plain": [
       "<Figure size 432x288 with 1 Axes>"
      ]
     },
     "metadata": {},
     "output_type": "display_data"
    }
   ],
   "source": [
    "# Distribution of the payment methods of vip\n",
    "Payment = pd.DataFrame({'Payment Method of VIPs' : [len(loyal_top10.PaymentMethod=='Electronic check'),\n",
    "                                                    len(loyal_top10.PaymentMethod=='Mailed check'),\n",
    "                                                    len(loyal_top10.PaymentMethod=='Bank transfer (automatic)'),\n",
    "                                                    len(loyal_top10.PaymentMethod=='Credit card (automatic)')]}, \n",
    "                       index = ['Electronic check', 'Mailed check','Bank transfer (automatic)','Credit card (automatic)'])\n",
    "Payment.plot.pie(y = 'Payment Method of VIPs')"
   ]
  },
  {
   "cell_type": "code",
   "execution_count": 26,
   "metadata": {},
   "outputs": [
    {
     "data": {
      "text/plain": [
       "<matplotlib.axes._subplots.AxesSubplot at 0x27e6fbbd860>"
      ]
     },
     "execution_count": 26,
     "metadata": {},
     "output_type": "execute_result"
    },
    {
     "data": {
      "image/png": "[encoded data removed]",
      "text/plain": [
       "<Figure size 432x288 with 1 Axes>"
      ]
     },
     "metadata": {},
     "output_type": "display_data"
    }
   ],
   "source": [
    "# Distribution of the payment methods of average customers\n",
    "Payment = pd.DataFrame({'Payment Method of average customers' : [len(loyal_top50.PaymentMethod=='Electronic check'),\n",
    "                                                    len(loyal_top50.PaymentMethod=='Mailed check'),\n",
    "                                                    len(loyal_top50.PaymentMethod=='Bank transfer (automatic)'),\n",
    "                                                    len(loyal_top50.PaymentMethod=='Credit card (automatic)')]}, \n",
    "                       index = ['Electronic check', 'Mailed check','Bank transfer (automatic)','Credit card (automatic)'])\n",
    "Payment.plot.pie(y = 'Payment Method of average customers')"
   ]
  },
  {
   "cell_type": "code",
   "execution_count": 30,
   "metadata": {},
   "outputs": [
    {
     "data": {
      "text/plain": [
       "<matplotlib.axes._subplots.AxesSubplot at 0x27e6ff02e48>"
      ]
     },
     "execution_count": 30,
     "metadata": {},
     "output_type": "execute_result"
    },
    {
     "data": {
      "image/png": "[encoded data removed]",
      "text/plain": [
       "<Figure size 432x288 with 1 Axes>"
      ]
     },
     "metadata": {},
     "output_type": "display_data"
    }
   ],
   "source": [
    "Internet_Security_VIP = pd.DataFrame([len(loyal_top10[(loyal_top10.InternetService != \"No\") & (loyal_top10.OnlineSecurity == 'Yes')])/len(loyal_top10),\n",
    "                                  len(loyal_top10[(loyal_top10.InternetService != \"No\") & (loyal_top10.OnlineSecurity == 'No')])/len(loyal_top10),\n",
    "                                  len(loyal_top10[(loyal_top10.InternetService == \"No\") & (loyal_top10.OnlineSecurity == 'No')])/len(loyal_top10),\n",
    "                                  len(loyal_top10[(loyal_top10.InternetService == \"No\") & (loyal_top10.OnlineSecurity == 'Yes')])/len(loyal_top10),\n",
    "                                  len(loyal_top10[(loyal_top10.InternetService == \"No\")])/len(loyal_top10)],\n",
    "                                 index = ['IS with Security', 'IS without Security', 'without IS witout IS',\n",
    "                                          'without IS with IS', 'without IS'])\n",
    "Internet_Security_VIP.plot.bar(legend = False)"
   ]
  },
  {
   "cell_type": "code",
   "execution_count": 31,
   "metadata": {},
   "outputs": [
    {
     "data": {
      "text/plain": [
       "<matplotlib.axes._subplots.AxesSubplot at 0x27e6ff664e0>"
      ]
     },
     "execution_count": 31,
     "metadata": {},
     "output_type": "execute_result"
    },
    {
     "data": {
      "image/png": "[encoded data removed]",
      "text/plain": [
       "<Figure size 432x288 with 1 Axes>"
      ]
     },
     "metadata": {},
     "output_type": "display_data"
    }
   ],
   "source": [
    "Internet_Security_avgcus = pd.DataFrame([len(loyal_top50[(loyal_top50.InternetService != \"No\") & (loyal_top50.OnlineSecurity == 'Yes')])/len(loyal_top50),\n",
    "                                  len(loyal_top50[(loyal_top50.InternetService != \"No\") & (loyal_top50.OnlineSecurity == 'No')])/len(loyal_top50),\n",
    "                                  len(loyal_top50[(loyal_top50.InternetService == \"No\") & (loyal_top50.OnlineSecurity == 'No')])/len(loyal_top50),\n",
    "                                  len(loyal_top50[(loyal_top50.InternetService == \"No\") & (loyal_top50.OnlineSecurity == 'Yes')])/len(loyal_top50),\n",
    "                                  len(loyal_top50[(loyal_top50.InternetService == \"No\")])/len(loyal_top50)],\n",
    "                                 index = ['IS with Security', 'IS without Security', 'without IS witout IS',\n",
    "                                          'without IS with IS', 'without IS'])\n",
    "Internet_Security_avgcus.plot.bar(legend = False)"
   ]
  },
  {
   "cell_type": "code",
   "execution_count": null,
   "metadata": {},
   "outputs": [],
   "source": []
  }
 ],
 "metadata": {
  "kernelspec": {
   "display_name": "Python 3",
   "language": "python",
   "name": "python3"
  },
  "language_info": {
   "codemirror_mode": {
    "name": "ipython",
    "version": 3
   },
   "file_extension": ".py",
   "mimetype": "text/x-python",
   "name": "python",
   "nbconvert_exporter": "python",
   "pygments_lexer": "ipython3",
   "version": "3.6.5"
  }
 },
 "nbformat": 4,
 "nbformat_minor": 2
}
